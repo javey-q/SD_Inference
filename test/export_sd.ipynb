{
 "cells": [
  {
   "cell_type": "code",
   "execution_count": 4,
   "metadata": {},
   "outputs": [],
   "source": [
    "import os\n",
    "from pathlib import Path\n",
    "\n",
    "import onnx\n",
    "import torch\n",
    "from diffusers.models.attention_processor import Attention\n",
    "from optimum.onnx.utils import _get_onnx_external_data_tensors, check_model_uses_external_data\n",
    "from torch.onnx import export as onnx_export"
   ]
  },
  {
   "cell_type": "code",
   "execution_count": null,
   "metadata": {},
   "outputs": [],
   "source": [
    "from diffusers import DiffusionPipeline\n",
    "\n",
    "pipe = DiffusionPipeline.from_pretrained(\n",
    "            \"stabilityai/stable-diffusion-xl-base-1.0\",\n",
    "            torch_dtype=torch.float16,\n",
    "            variant=\"fp16\",\n",
    "            use_safetensors=True,\n",
    "        ).to(\"cuda\")\n",
    "\n",
    "backbone = pipe.unet"
   ]
  },
  {
   "cell_type": "code",
   "execution_count": 1,
   "metadata": {},
   "outputs": [],
   "source": [
    "def generate_dummy_inputs(sd_version, device):\n",
    "    dummy_input = {}\n",
    "    if sd_version == \"sdxl-1.0\" or sd_version == \"sdxl-turbo\":\n",
    "        dummy_input[\"sample\"] = torch.ones(2, 4, 128, 128).to(device).half()\n",
    "        dummy_input[\"timestep\"] = torch.ones(1).to(device).half()\n",
    "        dummy_input[\"encoder_hidden_states\"] = torch.ones(2, 77, 2048).to(device).half()\n",
    "        dummy_input[\"added_cond_kwargs\"] = {}\n",
    "        dummy_input[\"added_cond_kwargs\"][\"text_embeds\"] = torch.ones(2, 1280).to(device).half()\n",
    "        dummy_input[\"added_cond_kwargs\"][\"time_ids\"] = torch.ones(2, 6).to(device).half()\n",
    "    elif sd_version == \"sd3-medium\":\n",
    "        dummy_input[\"hidden_states\"] = torch.ones(2, 16, 128, 128).to(device).half()\n",
    "        dummy_input[\"timestep\"] = torch.ones(2).to(device).half()\n",
    "        dummy_input[\"encoder_hidden_states\"] = torch.ones(2, 333, 4096).to(device).half()\n",
    "        dummy_input[\"pooled_projections\"] = torch.ones(2, 2048).to(device).half()\n",
    "    elif sd_version == \"sd1.5\":\n",
    "        dummy_input[\"sample\"] = torch.ones(2, 4, 64, 64).to(device).half()\n",
    "        dummy_input[\"timestep\"] = torch.ones(1).to(device).half()\n",
    "        dummy_input[\"encoder_hidden_states\"] = torch.ones(2, 16, 768).to(device).half()\n",
    "    else:\n",
    "        raise NotImplementedError(f\"Unsupported sd_version: {sd_version}\")\n",
    "\n",
    "    return dummy_input\n",
    "    "
   ]
  },
  {
   "cell_type": "code",
   "execution_count": null,
   "metadata": {},
   "outputs": [],
   "source": [
    "def modelopt_export_sd(backbone, onnx_dir, model_name):\n",
    "    os.makedirs(f\"{onnx_dir}\", exist_ok=True)\n",
    "    dummy_inputs = generate_dummy_inputs(model_name, device=backbone.device)\n",
    "\n",
    "    output = Path(f\"{onnx_dir}/backbone.onnx\")\n",
    "    if model_name == \"sdxl-1.0\" or model_name == \"sdxl-turbo\":\n",
    "        input_names = [\"sample\", \"timestep\", \"encoder_hidden_states\", \"text_embeds\", \"time_ids\"]\n",
    "        output_names = [\"latent\"]\n",
    "    elif model_name == \"sd1.5\":\n",
    "        input_names = [\"sample\", \"timestep\", \"encoder_hidden_states\"]\n",
    "        output_names = [\"latent\"]\n",
    "    elif model_name == \"sd3-medium\":\n",
    "        input_names = [\"hidden_states\", \"encoder_hidden_states\", \"pooled_projections\", \"timestep\"]\n",
    "        output_names = [\"sample\"]\n",
    "    else:\n",
    "        raise NotImplementedError(f\"Unsupported sd_version: {model_name}\")\n",
    "\n",
    "    dynamic_axes = AXES_NAME[model_name]\n",
    "    do_constant_folding = True\n",
    "    opset_version = 17\n",
    "\n",
    "    # Copied from Huggingface's Optimum\n",
    "    onnx_export(\n",
    "        backbone,\n",
    "        (dummy_inputs,),\n",
    "        f=output.as_posix(),\n",
    "        input_names=input_names,\n",
    "        output_names=output_names,\n",
    "        dynamic_axes=dynamic_axes,\n",
    "        do_constant_folding=do_constant_folding,\n",
    "        opset_version=opset_version,\n",
    "    )\n",
    "\n",
    "    onnx_model = onnx.load(str(output), load_external_data=False)\n",
    "    model_uses_external_data = check_model_uses_external_data(onnx_model)\n",
    "\n",
    "    if model_uses_external_data:\n",
    "        tensors_paths = _get_onnx_external_data_tensors(onnx_model)\n",
    "        onnx_model = onnx.load(str(output), load_external_data=True)\n",
    "        onnx.save(\n",
    "            onnx_model,\n",
    "            str(output),\n",
    "            save_as_external_data=True,\n",
    "            all_tensors_to_one_file=True,\n",
    "            location=output.name + \"_data\",\n",
    "            size_threshold=1024,\n",
    "        )\n",
    "        for tensor in tensors_paths:\n",
    "            os.remove(output.parent / tensor)"
   ]
  }
 ],
 "metadata": {
  "kernelspec": {
   "display_name": "sd-xl",
   "language": "python",
   "name": "python3"
  },
  "language_info": {
   "codemirror_mode": {
    "name": "ipython",
    "version": 3
   },
   "file_extension": ".py",
   "mimetype": "text/x-python",
   "name": "python",
   "nbconvert_exporter": "python",
   "pygments_lexer": "ipython3",
   "version": "3.10.14"
  }
 },
 "nbformat": 4,
 "nbformat_minor": 2
}
